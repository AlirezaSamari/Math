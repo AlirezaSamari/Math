{
  "nbformat": 4,
  "nbformat_minor": 0,
  "metadata": {
    "colab": {
      "provenance": [],
      "authorship_tag": "ABX9TyPvjnaP59HHTbFeVcqhicsa",
      "include_colab_link": true
    },
    "kernelspec": {
      "name": "python3",
      "display_name": "Python 3"
    },
    "language_info": {
      "name": "python"
    }
  },
  "cells": [
    {
      "cell_type": "markdown",
      "metadata": {
        "id": "view-in-github",
        "colab_type": "text"
      },
      "source": [
        "<a href=\"https://colab.research.google.com/github/AlirezaSamari/Math/blob/main/Einsum.ipynb\" target=\"_parent\"><img src=\"https://colab.research.google.com/assets/colab-badge.svg\" alt=\"Open In Colab\"/></a>"
      ]
    },
    {
      "cell_type": "markdown",
      "source": [
        "#Einsum"
      ],
      "metadata": {
        "id": "GVMXFE66X65X"
      }
    },
    {
      "cell_type": "code",
      "source": [
        "import torch"
      ],
      "metadata": {
        "id": "R_MaUWrzXnzu"
      },
      "execution_count": null,
      "outputs": []
    },
    {
      "cell_type": "code",
      "source": [
        "x = torch.rand((2, 3))\n",
        "x"
      ],
      "metadata": {
        "colab": {
          "base_uri": "https://localhost:8080/"
        },
        "id": "y24N5FmrisFK",
        "outputId": "f5ccf4ee-30fd-4e91-c75e-7a9bda52cb1c"
      },
      "execution_count": null,
      "outputs": [
        {
          "output_type": "execute_result",
          "data": {
            "text/plain": [
              "tensor([[0.9698, 0.1287, 0.1541],\n",
              "        [0.7328, 0.3059, 0.2810]])"
            ]
          },
          "metadata": {},
          "execution_count": 2
        }
      ]
    },
    {
      "cell_type": "markdown",
      "source": [
        "***Premutation of Tensors***"
      ],
      "metadata": {
        "id": "thVDJYqoiHhG"
      }
    },
    {
      "cell_type": "code",
      "source": [
        "torch.einsum('ij->ji', x)"
      ],
      "metadata": {
        "colab": {
          "base_uri": "https://localhost:8080/"
        },
        "id": "xjRYj35QX0Sj",
        "outputId": "47dbf28a-e054-4b29-e58f-e188d38a9621"
      },
      "execution_count": null,
      "outputs": [
        {
          "output_type": "execute_result",
          "data": {
            "text/plain": [
              "tensor([[0.9698, 0.7328],\n",
              "        [0.1287, 0.3059],\n",
              "        [0.1541, 0.2810]])"
            ]
          },
          "metadata": {},
          "execution_count": 3
        }
      ]
    },
    {
      "cell_type": "markdown",
      "source": [
        "***Summation***"
      ],
      "metadata": {
        "id": "xAOPjUiMjhoo"
      }
    },
    {
      "cell_type": "code",
      "source": [
        "torch.einsum('ij->', x)"
      ],
      "metadata": {
        "colab": {
          "base_uri": "https://localhost:8080/"
        },
        "id": "v9y1BqKcrkfc",
        "outputId": "19432224-5bd7-42e8-fe5b-d5ea92cd9433"
      },
      "execution_count": null,
      "outputs": [
        {
          "output_type": "execute_result",
          "data": {
            "text/plain": [
              "tensor(2.5724)"
            ]
          },
          "metadata": {},
          "execution_count": 4
        }
      ]
    },
    {
      "cell_type": "markdown",
      "source": [
        "***Column Sum***"
      ],
      "metadata": {
        "id": "gMvLYiaPkHpL"
      }
    },
    {
      "cell_type": "code",
      "source": [
        "torch.einsum('ij->j', x)"
      ],
      "metadata": {
        "colab": {
          "base_uri": "https://localhost:8080/"
        },
        "id": "ulQ-jb73jagH",
        "outputId": "f4803a04-c730-4324-d310-955552073625"
      },
      "execution_count": null,
      "outputs": [
        {
          "output_type": "execute_result",
          "data": {
            "text/plain": [
              "tensor([1.7026, 0.4346, 0.4352])"
            ]
          },
          "metadata": {},
          "execution_count": 5
        }
      ]
    },
    {
      "cell_type": "markdown",
      "source": [
        "***Column Sum***"
      ],
      "metadata": {
        "id": "Xh9mgZvikPXw"
      }
    },
    {
      "cell_type": "code",
      "source": [
        " torch.einsum('ij->i', x)"
      ],
      "metadata": {
        "colab": {
          "base_uri": "https://localhost:8080/"
        },
        "id": "245ku0zgj0oL",
        "outputId": "aca79df5-ee7c-433c-cb5a-39384ebd631d"
      },
      "execution_count": null,
      "outputs": [
        {
          "output_type": "execute_result",
          "data": {
            "text/plain": [
              "tensor([1.2526, 1.3198])"
            ]
          },
          "metadata": {},
          "execution_count": 6
        }
      ]
    },
    {
      "cell_type": "markdown",
      "source": [
        "***Matrix-Vector Multiplication***"
      ],
      "metadata": {
        "id": "SX2t6C8UkD3c"
      }
    },
    {
      "cell_type": "code",
      "source": [
        "v = torch.rand((1, 3))\n",
        "torch.einsum('ij, kj-> ik', x, v)"
      ],
      "metadata": {
        "colab": {
          "base_uri": "https://localhost:8080/"
        },
        "id": "LtrG_J8wkC0g",
        "outputId": "a3a6b00e-4619-41b0-ca08-17121063fbdc"
      },
      "execution_count": null,
      "outputs": [
        {
          "output_type": "execute_result",
          "data": {
            "text/plain": [
              "tensor([[0.1763],\n",
              "        [0.3313]])"
            ]
          },
          "metadata": {},
          "execution_count": 7
        }
      ]
    },
    {
      "cell_type": "markdown",
      "source": [
        "***Matrix-Matrix Multipilication***"
      ],
      "metadata": {
        "id": "pBk2kOeuxpKy"
      }
    },
    {
      "cell_type": "code",
      "source": [
        "y = torch.rand((3, 5))\n",
        "torch.einsum('ij, jk->ik', x, y)"
      ],
      "metadata": {
        "colab": {
          "base_uri": "https://localhost:8080/"
        },
        "id": "5eAwNamrxc0V",
        "outputId": "8a6bf176-6083-4152-e5d8-5d5d1a791684"
      },
      "execution_count": null,
      "outputs": [
        {
          "output_type": "execute_result",
          "data": {
            "text/plain": [
              "tensor([[0.5179, 0.1788, 0.2263, 0.3745, 0.7067],\n",
              "        [0.4534, 0.3667, 0.3318, 0.5100, 0.6890]])"
            ]
          },
          "metadata": {},
          "execution_count": 8
        }
      ]
    },
    {
      "cell_type": "markdown",
      "source": [
        "***DOT PRODUCT First Row with Second Row of Matrix***"
      ],
      "metadata": {
        "id": "av4mQKbL3EbR"
      }
    },
    {
      "cell_type": "code",
      "source": [
        "torch.einsum('i, i->', x[0], x[1])"
      ],
      "metadata": {
        "colab": {
          "base_uri": "https://localhost:8080/"
        },
        "id": "6A1ZroAex4UF",
        "outputId": "9b1114fb-7290-4664-d06c-ccb585b2d729"
      },
      "execution_count": null,
      "outputs": [
        {
          "output_type": "execute_result",
          "data": {
            "text/plain": [
              "tensor(0.7933)"
            ]
          },
          "metadata": {},
          "execution_count": 9
        }
      ]
    },
    {
      "cell_type": "markdown",
      "source": [
        "***DOT PRODUCT First Row with Matrix***"
      ],
      "metadata": {
        "id": "yVOoQfnR7S2f"
      }
    },
    {
      "cell_type": "code",
      "source": [
        "torch.einsum('ij, ij->', x, x)"
      ],
      "metadata": {
        "colab": {
          "base_uri": "https://localhost:8080/"
        },
        "id": "LfAKj-H75jpN",
        "outputId": "3e692fdf-7615-40da-c164-3a975e1322d4"
      },
      "execution_count": null,
      "outputs": [
        {
          "output_type": "execute_result",
          "data": {
            "text/plain": [
              "tensor(1.6904)"
            ]
          },
          "metadata": {},
          "execution_count": 10
        }
      ]
    },
    {
      "cell_type": "markdown",
      "source": [
        "***HADAMARD PRODUCT***"
      ],
      "metadata": {
        "id": "DGvmHAr-75ya"
      }
    },
    {
      "cell_type": "code",
      "source": [
        "torch.einsum('ij, ij-> ij', x, x)"
      ],
      "metadata": {
        "colab": {
          "base_uri": "https://localhost:8080/"
        },
        "id": "g1Wn83Ex7ePB",
        "outputId": "0907359b-82a0-4b5d-8539-2b7c25870cc5"
      },
      "execution_count": null,
      "outputs": [
        {
          "output_type": "execute_result",
          "data": {
            "text/plain": [
              "tensor([[0.9405, 0.0166, 0.0238],\n",
              "        [0.5370, 0.0936, 0.0790]])"
            ]
          },
          "metadata": {},
          "execution_count": 11
        }
      ]
    },
    {
      "cell_type": "markdown",
      "source": [
        "***OUTER PRODUCT***\n",
        "$${\\color{green}C_{ij}} = {\\color{red}a_i\\color{blue}b_j}$$"
      ],
      "metadata": {
        "id": "sDmfmETs8UeD"
      }
    },
    {
      "cell_type": "code",
      "source": [
        "a = torch.arange(3)\n",
        "b = torch.arange(3,7)\n",
        "torch.einsum('i,j->ij', a, b)"
      ],
      "metadata": {
        "colab": {
          "base_uri": "https://localhost:8080/"
        },
        "id": "PKy77VtU7_3w",
        "outputId": "a59ee96f-67c7-4dea-b923-0baa704daf4a"
      },
      "execution_count": null,
      "outputs": [
        {
          "output_type": "execute_result",
          "data": {
            "text/plain": [
              "tensor([[ 0,  0,  0,  0],\n",
              "        [ 3,  4,  5,  6],\n",
              "        [ 6,  8, 10, 12]])"
            ]
          },
          "metadata": {},
          "execution_count": 12
        }
      ]
    },
    {
      "cell_type": "markdown",
      "source": [
        "***BATCH MATRIX MULTIPLICATION***\n",
        "$${\\color{green}C_{ijl}} = \\sum_k{\\color{red}A_{ijk}\\color{blue}B_{ikl}} = {\\color{red}A_{ijk}\\color{blue}B_{ikl}}$$"
      ],
      "metadata": {
        "id": "yDTpWjlx-coF"
      }
    },
    {
      "cell_type": "code",
      "source": [
        "a = torch.rand(3,4,5)\n",
        "b = torch.rand(3,5,6)\n",
        "torch.einsum('ijk,ikl->ijl', a, b)"
      ],
      "metadata": {
        "colab": {
          "base_uri": "https://localhost:8080/"
        },
        "id": "5UypHqle9u8N",
        "outputId": "5b032c67-dc49-4227-fd63-73a8048179da"
      },
      "execution_count": null,
      "outputs": [
        {
          "output_type": "execute_result",
          "data": {
            "text/plain": [
              "tensor([[[1.7842, 1.6131, 0.9676, 1.4573, 1.0928, 1.4636],\n",
              "         [1.3199, 1.1868, 1.6237, 0.7255, 1.2334, 1.1498],\n",
              "         [1.0988, 1.5848, 0.9574, 1.2396, 0.9055, 0.9374],\n",
              "         [1.0955, 1.1937, 0.9788, 0.9828, 0.5068, 0.7681]],\n",
              "\n",
              "        [[1.2336, 1.5610, 1.0057, 1.5755, 1.2138, 1.4702],\n",
              "         [1.0029, 1.3512, 0.8867, 1.2471, 1.0922, 1.3939],\n",
              "         [0.9721, 1.2514, 1.0199, 1.7002, 1.2429, 1.4656],\n",
              "         [0.8458, 0.9953, 1.2746, 1.6844, 1.0164, 1.6640]],\n",
              "\n",
              "        [[1.4916, 1.4618, 2.0479, 1.0815, 1.6750, 0.9637],\n",
              "         [0.9451, 0.6885, 1.0444, 0.8117, 0.7696, 0.8238],\n",
              "         [0.7415, 0.8467, 0.3939, 0.8218, 0.8198, 0.4971],\n",
              "         [1.5844, 1.4524, 1.6291, 1.3825, 1.4019, 1.0677]]])"
            ]
          },
          "metadata": {},
          "execution_count": 13
        }
      ]
    },
    {
      "cell_type": "markdown",
      "source": [
        "***Matrix Diagonal***"
      ],
      "metadata": {
        "id": "5hPQmzh5_OzJ"
      }
    },
    {
      "cell_type": "code",
      "source": [
        "x = torch.rand((3,3))\n",
        "x"
      ],
      "metadata": {
        "colab": {
          "base_uri": "https://localhost:8080/"
        },
        "id": "ZPKlui-N-8Hq",
        "outputId": "2cd9be2f-7c29-419e-f1e5-b7c7bb0dfeb6"
      },
      "execution_count": null,
      "outputs": [
        {
          "output_type": "execute_result",
          "data": {
            "text/plain": [
              "tensor([[0.7698, 0.7554, 0.5119],\n",
              "        [0.6850, 0.0187, 0.6073],\n",
              "        [0.5226, 0.1485, 0.4927]])"
            ]
          },
          "metadata": {},
          "execution_count": 14
        }
      ]
    },
    {
      "cell_type": "code",
      "source": [
        "torch.einsum('ii->i', x)"
      ],
      "metadata": {
        "colab": {
          "base_uri": "https://localhost:8080/"
        },
        "id": "h5fkaDvs_e5z",
        "outputId": "0b5759cc-a500-4cac-9e47-1777691d811d"
      },
      "execution_count": null,
      "outputs": [
        {
          "output_type": "execute_result",
          "data": {
            "text/plain": [
              "tensor([0.7698, 0.0187, 0.4927])"
            ]
          },
          "metadata": {},
          "execution_count": 15
        }
      ]
    },
    {
      "cell_type": "markdown",
      "source": [
        "***Matrix Trace***"
      ],
      "metadata": {
        "id": "4_QEBDXy_7tE"
      }
    },
    {
      "cell_type": "code",
      "source": [
        "torch.einsum('ii->', x)"
      ],
      "metadata": {
        "colab": {
          "base_uri": "https://localhost:8080/"
        },
        "id": "qw0FFNJc_qsM",
        "outputId": "51b29910-ef43-4200-cbda-b0560a0f908a"
      },
      "execution_count": null,
      "outputs": [
        {
          "output_type": "execute_result",
          "data": {
            "text/plain": [
              "tensor(1.2812)"
            ]
          },
          "metadata": {},
          "execution_count": 16
        }
      ]
    }
  ]
}